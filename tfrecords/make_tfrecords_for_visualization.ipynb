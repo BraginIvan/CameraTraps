{
 "cells": [
  {
   "cell_type": "code",
   "execution_count": 46,
   "metadata": {},
   "outputs": [],
   "source": [
    "\n",
    "import json\n",
    "import pickle\n",
    "import numpy as np\n",
    "import argparse\n",
    "import os\n",
    "\n",
    "# from create_tfrecords_py3 import create\n",
    "from create_tfrecords import create\n",
    "from create_tfrecords_format import *\n",
    "from make_tfrecords_from_json import *"
   ]
  },
  {
   "cell_type": "code",
   "execution_count": 47,
   "metadata": {},
   "outputs": [],
   "source": [
    "#update json file\n",
    "dataset_file='/Users/sarabeery/Documents/CameraTrapClass/Data/unity_sim_deer/DeerMixedDay_batch_5_updated.json'\n",
    "# dataset_file = '/Users/sarabeery/Documents/CameraTrapClass/Fixing_CCT_Anns/Corrected_versions/CaltechCameraTrapsBboxes_v2.json'\n",
    "with open(dataset_file,'r') as f:\n",
    "    data = json.load(f)\n",
    "    \n",
    "for im in data['images']:\n",
    "    im['file_name'] = im['file_name'].split('/')[-1]\n",
    "    im['id'] = im['id'].split('/')[-1]\n",
    "    \n",
    "for ann in data['annotations']:\n",
    "    ann['image_id'] = ann['image_id'].split('/')[-1]"
   ]
  },
  {
   "cell_type": "code",
   "execution_count": 48,
   "metadata": {},
   "outputs": [
    {
     "name": "stdout",
     "output_type": "stream",
     "text": [
      "{u'file_name': u'2019-02-04_20-16-46_1920x1080_1217_0.jpg', u'height': 1080, u'id': u'2019-02-04_20-16-46_1920x1080_1217_0', u'width': 1920}\n",
      "{u'image_id': u'2019-02-04_17-52-52_1920x1080_0_0', u'category_id': 1, u'id': 0, u'pixel_count': 1044, u'bbox': [842, 526, 82, 68]}\n"
     ]
    }
   ],
   "source": [
    "print(data['images'][0])\n",
    "print(data['annotations'][0])"
   ]
  },
  {
   "cell_type": "code",
   "execution_count": 77,
   "metadata": {},
   "outputs": [
    {
     "name": "stdout",
     "output_type": "stream",
     "text": [
      "3484\n"
     ]
    }
   ],
   "source": [
    "dataset_file = '/Users/sarabeery/Documents/CameraTrapClass/Fixing_CCT_Anns/Corrected_versions/CaltechCameraTrapsBboxes_v2.json'\n",
    "image_file_root = '/Users/sarabeery/Documents/CameraTrapClass/Data/cis_val/'\n",
    "\n",
    "# dataset_file='/Users/sarabeery/Documents/CameraTrapClass/Data/unity_sim_deer/DeerMixedDay_batch_5_updated.json'\n",
    "# image_file_root = '/Users/sarabeery/Documents/CameraTrapClass/Data/unity_sim_deer/'\n",
    "\n",
    "im_ids = set([i.replace('.jpg','') for i in os.listdir(image_file_root)])\n",
    "print(len(im_ids))\n",
    "#print(im_ids[0])\n",
    "#im_ids = ['594b5cdc-23d2-11e8-a6a3-ec086b02610b','594b5cc8-23d2-11e8-a6a3-ec086b02610b','594b5df4-23d2-11e8-a6a3-ec086b02610b','594cea5a-23d2-11e8-a6a3-ec086b02610b','596bd7ac-23d2-11e8-a6a3-ec086b02610b','596bd8f7-23d2-11e8-a6a3-ec086b02610b']\n",
    "output_tfrecords_folder = '/Users/sarabeery/Documents/CameraTrapClass/sim_classification/vizualize_activations/cis_val_tfrecords/'\n",
    "#os.mkdir(output_tfrecords_folder)\n",
    "dataset_name = 'cis_val'\n",
    "\n",
    "config_file = '/Users/sarabeery/Documents/CameraTrapClass/sim_classification/general/train_on_cct/config_test.yaml'\n",
    "checkpoint_path = '/Users/sarabeery/Documents/CameraTrapClass/sim_classification/general/train_on_cct/model.ckpt-165890'\n",
    "\n"
   ]
  },
  {
   "cell_type": "code",
   "execution_count": 78,
   "metadata": {},
   "outputs": [],
   "source": [
    "with open(dataset_file,'r') as f:\n",
    "    data = json.load(f)"
   ]
  },
  {
   "cell_type": "code",
   "execution_count": 79,
   "metadata": {},
   "outputs": [
    {
     "name": "stdout",
     "output_type": "stream",
     "text": [
      "1665\n",
      "1763\n"
     ]
    }
   ],
   "source": [
    "new_data = {'images':[im for im in data['images'] if im['id'] in im_ids],'annotations':[ann for ann in data['annotations'] if ann['image_id'] in im_ids],'categories':data['categories']}\n",
    "input_json_file = '/Users/sarabeery/Documents/CameraTrapClass/sim_classification/vizualize_activations/cis_val_visualization.json'\n",
    "with open(input_json_file,'w') as f:\n",
    "    json.dump(new_data,f)\n",
    "print(len(new_data['images']))\n",
    "print(len(new_data['annotations']))"
   ]
  },
  {
   "cell_type": "code",
   "execution_count": 80,
   "metadata": {},
   "outputs": [
    {
     "name": "stderr",
     "output_type": "stream",
     "text": [
      "100%|██████████| 1665/1665 [00:00<00:00, 13332.16it/s]"
     ]
    },
    {
     "name": "stdout",
     "output_type": "stream",
     "text": [
      "Loading database...\n",
      "('Images: ', 1665)\n",
      "('Annotations: ', 1763)\n",
      "('Categories: ', 16)\n",
      "[{u'id': 6, u'name': u'bobcat'}, {u'id': 1, u'name': u'opossum'}, {u'id': 9, u'name': u'coyote'}, {u'id': 3, u'name': u'raccoon'}, {u'id': 11, u'name': u'bird'}, {u'id': 8, u'name': u'dog'}, {u'id': 16, u'name': u'cat'}, {u'id': 5, u'name': u'squirrel'}, {u'id': 10, u'name': u'rabbit'}, {u'id': 7, u'name': u'skunk'}, {u'id': 99, u'name': u'rodent'}, {u'id': 21, u'name': u'badger'}, {u'id': 34, u'name': u'deer'}, {u'id': 51, u'name': u'fox'}]\n",
      "{1: 2, 34: 13, 3: 4, 5: 8, 6: 1, 7: 10, 8: 6, 9: 3, 10: 9, 11: 5, 16: 7, 99: 11, 21: 12, 51: 14}\n",
      "('Anns with no bbox: ', 0)\n",
      "('Number of empty images from the labeled set: ', 0)\n",
      "('Number of image entries: ', 1665)\n",
      "('num_bboxes_skipped: ', 41)\n",
      "('Images: ', 1665)\n",
      "Creating cis_val tfrecords\n",
      "Number of shards: 10\n",
      "Launching 5 threads for spacings: [[0, 333], [333, 666], [666, 999], [999, 1332], [1332, 1665]]\n"
     ]
    },
    {
     "name": "stderr",
     "output_type": "stream",
     "text": [
      "\n"
     ]
    },
    {
     "name": "stdout",
     "output_type": "stream",
     "text": [
      "2019-02-26 16:02:24.623436 [thread 1]: Wrote 166 images to /Users/sarabeery/Documents/CameraTrapClass/sim_classification/vizualize_activations/cis_val_tfrecords/cis_val-00002-of-00010, with 0 errors.\n",
      "2019-02-26 16:02:24.632480 [thread 0]: Wrote 166 images to /Users/sarabeery/Documents/CameraTrapClass/sim_classification/vizualize_activations/cis_val_tfrecords/cis_val-00000-of-00010, with 0 errors.\n",
      "2019-02-26 16:02:24.665997 [thread 3]: Wrote 166 images to /Users/sarabeery/Documents/CameraTrapClass/sim_classification/vizualize_activations/cis_val_tfrecords/cis_val-00006-of-00010, with 0 errors.\n",
      "2019-02-26 16:02:24.690324 [thread 2]: Wrote 166 images to /Users/sarabeery/Documents/CameraTrapClass/sim_classification/vizualize_activations/cis_val_tfrecords/cis_val-00004-of-00010, with 0 errors.\n",
      "2019-02-26 16:02:24.752710 [thread 4]: Wrote 166 images to /Users/sarabeery/Documents/CameraTrapClass/sim_classification/vizualize_activations/cis_val_tfrecords/cis_val-00008-of-00010, with 0 errors.\n",
      "2019-02-26 16:02:30.887576 [thread 3]: Wrote 167 images to /Users/sarabeery/Documents/CameraTrapClass/sim_classification/vizualize_activations/cis_val_tfrecords/cis_val-00007-of-00010, with 0 errors.\n",
      "2019-02-26 16:02:30.888829 [thread 3]: Wrote 333 images to 333 shards, with 0 errors.\n",
      "2019-02-26 16:02:30.906617 [thread 1]: Wrote 167 images to /Users/sarabeery/Documents/CameraTrapClass/sim_classification/vizualize_activations/cis_val_tfrecords/cis_val-00003-of-00010, with 0 errors.\n",
      "2019-02-26 16:02:30.908197 [thread 1]: Wrote 333 images to 333 shards, with 0 errors.\n",
      "2019-02-26 16:02:31.080547 [thread 4]: Wrote 167 images to /Users/sarabeery/Documents/CameraTrapClass/sim_classification/vizualize_activations/cis_val_tfrecords/cis_val-00009-of-00010, with 0 errors.\n",
      "2019-02-26 16:02:31.082756 [thread 4]: Wrote 333 images to 333 shards, with 0 errors.\n",
      "2019-02-26 16:02:31.083197 [thread 2]: Wrote 167 images to /Users/sarabeery/Documents/CameraTrapClass/sim_classification/vizualize_activations/cis_val_tfrecords/cis_val-00005-of-00010, with 0 errors.\n",
      "2019-02-26 16:02:31.085403 [thread 2]: Wrote 333 images to 333 shards, with 0 errors.\n",
      "2019-02-26 16:02:31.123325 [thread 0]: Wrote 167 images to /Users/sarabeery/Documents/CameraTrapClass/sim_classification/vizualize_activations/cis_val_tfrecords/cis_val-00001-of-00010, with 0 errors.\n",
      "2019-02-26 16:02:31.124802 [thread 0]: Wrote 333 images to 333 shards, with 0 errors.\n",
      "2019-02-26 16:02:31.853005: Finished writing all 1665 images in data set.\n",
      "0 examples failed.\n"
     ]
    }
   ],
   "source": [
    "make_tfrecords_from_json(input_json_file, output_tfrecords_folder, image_file_root, dataset_name, num_threads=5,ims_per_record=200,is_one_class=False)"
   ]
  },
  {
   "cell_type": "code",
   "execution_count": null,
   "metadata": {},
   "outputs": [],
   "source": []
  }
 ],
 "metadata": {
  "kernelspec": {
   "display_name": "Python 2",
   "language": "python",
   "name": "python2"
  },
  "language_info": {
   "codemirror_mode": {
    "name": "ipython",
    "version": 2
   },
   "file_extension": ".py",
   "mimetype": "text/x-python",
   "name": "python",
   "nbconvert_exporter": "python",
   "pygments_lexer": "ipython2",
   "version": "2.7.13"
  }
 },
 "nbformat": 4,
 "nbformat_minor": 2
}
