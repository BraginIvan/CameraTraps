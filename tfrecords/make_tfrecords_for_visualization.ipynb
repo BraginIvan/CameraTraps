{
 "cells": [
  {
   "cell_type": "code",
   "execution_count": 82,
   "metadata": {},
   "outputs": [],
   "source": [
    "\n",
    "import json\n",
    "import pickle\n",
    "import numpy as np\n",
    "import argparse\n",
    "import os\n",
    "\n",
    "# from create_tfrecords_py3 import create\n",
    "from create_tfrecords import create\n",
    "from create_tfrecords_format import *\n",
    "from make_tfrecords_from_json import *"
   ]
  },
  {
   "cell_type": "code",
   "execution_count": 83,
   "metadata": {},
   "outputs": [],
   "source": [
    "#update json file\n",
    "dataset_file='/Users/sarabeery/Documents/CameraTrapClass/Data/cis_deer/cis_test_deer.json'#unity_sim_deer/DeerMixedDay_batch_5_updated.json'\n",
    "# dataset_file = '/Users/sarabeery/Documents/CameraTrapClass/Fixing_CCT_Anns/Corrected_versions/CaltechCameraTrapsBboxes_v2.json'\n",
    "with open(dataset_file,'r') as f:\n",
    "    data = json.load(f)\n",
    "    \n",
    "for im in data['images']:\n",
    "    im['file_name'] = im['file_name'].split('/')[-1]\n",
    "    im['id'] = im['id'].split('/')[-1]\n",
    "    \n",
    "for ann in data['annotations']:\n",
    "    ann['image_id'] = ann['image_id'].split('/')[-1]"
   ]
  },
  {
   "cell_type": "code",
   "execution_count": 84,
   "metadata": {},
   "outputs": [
    {
     "name": "stdout",
     "output_type": "stream",
     "text": [
      "{u'file_name': u'5874d710-23d2-11e8-a6a3-ec086b02610b.jpg', u'rights_holder': u'Erin Boydston', u'height': 1536, u'width': 2048, u'frame_num': 1, u'date_captured': u'2011-03-07 22:20:00', u'location': 120, u'seq_num_frames': 1, u'seq_id': u'700ce380-5567-11e8-bdf7-dca9047ef277', u'id': u'5874d710-23d2-11e8-a6a3-ec086b02610b'}\n",
      "{u'image_id': u'5874d710-23d2-11e8-a6a3-ec086b02610b', u'category_id': 34, u'bbox': [757.76, 537.5999999999999, 655.3599999999999, 473.60000000000014], u'id': u'14491'}\n"
     ]
    }
   ],
   "source": [
    "print(data['images'][0])\n",
    "print(data['annotations'][0])"
   ]
  },
  {
   "cell_type": "code",
   "execution_count": 85,
   "metadata": {},
   "outputs": [
    {
     "name": "stdout",
     "output_type": "stream",
     "text": [
      "139\n"
     ]
    }
   ],
   "source": [
    "#dataset_file = '/Users/sarabeery/Documents/CameraTrapClass/Fixing_CCT_Anns/Corrected_versions/CaltechCameraTrapsBboxes_v2.json'\n",
    "dataset_file='/Users/sarabeery/Documents/CameraTrapClass/Data/cis_deer/cis_test_deer.json'\n",
    "image_file_root = '/Users/sarabeery/Documents/CameraTrapClass/Data/cis_deer/'#cis_val/'\n",
    "\n",
    "# dataset_file='/Users/sarabeery/Documents/CameraTrapClass/Data/unity_sim_deer/DeerMixedDay_batch_5_updated.json'\n",
    "# image_file_root = '/Users/sarabeery/Documents/CameraTrapClass/Data/unity_sim_deer/'\n",
    "\n",
    "im_ids = set([i.replace('.jpg','') for i in os.listdir(image_file_root)])\n",
    "print(len(im_ids))\n",
    "#print(im_ids[0])\n",
    "#im_ids = ['594b5cdc-23d2-11e8-a6a3-ec086b02610b','594b5cc8-23d2-11e8-a6a3-ec086b02610b','594b5df4-23d2-11e8-a6a3-ec086b02610b','594cea5a-23d2-11e8-a6a3-ec086b02610b','596bd7ac-23d2-11e8-a6a3-ec086b02610b','596bd8f7-23d2-11e8-a6a3-ec086b02610b']\n",
    "output_tfrecords_folder = '/Users/sarabeery/Documents/CameraTrapClass/sim_classification/vizualize_activations/cis_deer_tfrecords/'\n",
    "#os.mkdir(output_tfrecords_folder)\n",
    "dataset_name = 'cis_deer'\n",
    "\n",
    "config_file = '/Users/sarabeery/Documents/CameraTrapClass/sim_classification/general/train_on_cct/config_test.yaml'\n",
    "checkpoint_path = '/Users/sarabeery/Documents/CameraTrapClass/sim_classification/general/train_on_cct/model.ckpt-165890'\n",
    "\n"
   ]
  },
  {
   "cell_type": "code",
   "execution_count": 86,
   "metadata": {},
   "outputs": [],
   "source": [
    "with open(dataset_file,'r') as f:\n",
    "    data = json.load(f)"
   ]
  },
  {
   "cell_type": "code",
   "execution_count": 87,
   "metadata": {},
   "outputs": [
    {
     "name": "stdout",
     "output_type": "stream",
     "text": [
      "140\n",
      "140\n"
     ]
    }
   ],
   "source": [
    "new_data = {'images':[im for im in data['images'] if im['id'] in im_ids],'annotations':[ann for ann in data['annotations'] if ann['image_id'] in im_ids],'categories':data['categories']}\n",
    "input_json_file = '/Users/sarabeery/Documents/CameraTrapClass/sim_classification/vizualize_activations/cis_deer_visualization.json'\n",
    "with open(input_json_file,'w') as f:\n",
    "    json.dump(new_data,f)\n",
    "print(len(new_data['images']))\n",
    "print(len(new_data['annotations']))"
   ]
  },
  {
   "cell_type": "code",
   "execution_count": 88,
   "metadata": {},
   "outputs": [
    {
     "name": "stderr",
     "output_type": "stream",
     "text": [
      "100%|██████████| 140/140 [00:00<00:00, 26980.45it/s]"
     ]
    },
    {
     "name": "stdout",
     "output_type": "stream",
     "text": [
      "Loading database...\n",
      "('Images: ', 140)\n",
      "('Annotations: ', 140)\n",
      "('Categories: ', 16)\n",
      "[{u'id': 6, u'name': u'bobcat'}, {u'id': 1, u'name': u'opossum'}, {u'id': 9, u'name': u'coyote'}, {u'id': 3, u'name': u'raccoon'}, {u'id': 11, u'name': u'bird'}, {u'id': 8, u'name': u'dog'}, {u'id': 16, u'name': u'cat'}, {u'id': 5, u'name': u'squirrel'}, {u'id': 10, u'name': u'rabbit'}, {u'id': 7, u'name': u'skunk'}, {u'id': 99, u'name': u'rodent'}, {u'id': 21, u'name': u'badger'}, {u'id': 34, u'name': u'deer'}, {u'id': 51, u'name': u'fox'}]\n",
      "{1: 2, 34: 13, 3: 4, 5: 8, 6: 1, 7: 10, 8: 6, 9: 3, 10: 9, 11: 5, 16: 7, 99: 11, 21: 12, 51: 14}\n",
      "('Anns with no bbox: ', 0)\n",
      "('Number of empty images from the labeled set: ', 0)\n",
      "('Number of image entries: ', 140)\n",
      "('num_bboxes_skipped: ', 0)\n",
      "('Images: ', 140)\n",
      "Creating cis_deer tfrecords\n",
      "Number of shards: 5\n",
      "Launching 5 threads for spacings: [[0, 28], [28, 56], [56, 84], [84, 112], [112, 140]]\n"
     ]
    },
    {
     "name": "stderr",
     "output_type": "stream",
     "text": [
      "\n"
     ]
    },
    {
     "name": "stdout",
     "output_type": "stream",
     "text": [
      "2019-03-04 13:19:13.447563 [thread 1]: Wrote 28 images to /Users/sarabeery/Documents/CameraTrapClass/sim_classification/vizualize_activations/cis_deer_tfrecords/cis_deer-00001-of-00005, with 0 errors.\n",
      "2019-03-04 13:19:13.449877 [thread 1]: Wrote 28 images to 28 shards, with 0 errors.\n",
      "2019-03-04 13:19:13.454447 [thread 0]: Wrote 28 images to /Users/sarabeery/Documents/CameraTrapClass/sim_classification/vizualize_activations/cis_deer_tfrecords/cis_deer-00000-of-00005, with 0 errors.\n",
      "2019-03-04 13:19:13.456006 [thread 0]: Wrote 28 images to 28 shards, with 0 errors.\n",
      "2019-03-04 13:19:13.509237 [thread 4]: Wrote 28 images to /Users/sarabeery/Documents/CameraTrapClass/sim_classification/vizualize_activations/cis_deer_tfrecords/cis_deer-00004-of-00005, with 0 errors.\n",
      "2019-03-04 13:19:13.511648 [thread 4]: Wrote 28 images to 28 shards, with 0 errors.\n",
      "2019-03-04 13:19:13.542260 [thread 2]: Wrote 28 images to /Users/sarabeery/Documents/CameraTrapClass/sim_classification/vizualize_activations/cis_deer_tfrecords/cis_deer-00002-of-00005, with 0 errors.\n",
      "2019-03-04 13:19:13.543511 [thread 2]: Wrote 28 images to 28 shards, with 0 errors.\n",
      "2019-03-04 13:19:13.549989 [thread 3]: Wrote 28 images to /Users/sarabeery/Documents/CameraTrapClass/sim_classification/vizualize_activations/cis_deer_tfrecords/cis_deer-00003-of-00005, with 0 errors.\n",
      "2019-03-04 13:19:13.551459 [thread 3]: Wrote 28 images to 28 shards, with 0 errors.\n",
      "2019-03-04 13:19:14.336921: Finished writing all 140 images in data set.\n",
      "0 examples failed.\n"
     ]
    }
   ],
   "source": [
    "make_tfrecords_from_json(input_json_file, output_tfrecords_folder, image_file_root, dataset_name, num_threads=5,ims_per_record=200,is_one_class=False)"
   ]
  },
  {
   "cell_type": "code",
   "execution_count": null,
   "metadata": {},
   "outputs": [],
   "source": []
  }
 ],
 "metadata": {
  "kernelspec": {
   "display_name": "Python 2",
   "language": "python",
   "name": "python2"
  },
  "language_info": {
   "codemirror_mode": {
    "name": "ipython",
    "version": 2
   },
   "file_extension": ".py",
   "mimetype": "text/x-python",
   "name": "python",
   "nbconvert_exporter": "python",
   "pygments_lexer": "ipython2",
   "version": "2.7.13"
  }
 },
 "nbformat": 4,
 "nbformat_minor": 2
}
