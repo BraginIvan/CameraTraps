{
 "cells": [
  {
   "cell_type": "code",
   "execution_count": 89,
   "metadata": {},
   "outputs": [],
   "source": [
    "\n",
    "import json\n",
    "import pickle\n",
    "import numpy as np\n",
    "import argparse\n",
    "import os\n",
    "\n",
    "# from create_tfrecords_py3 import create\n",
    "from create_tfrecords import create\n",
    "from create_tfrecords_format import *\n",
    "from make_tfrecords_from_json import *"
   ]
  },
  {
   "cell_type": "code",
   "execution_count": 91,
   "metadata": {},
   "outputs": [],
   "source": [
    "#update json file\n",
    "dataset_file='/Users/sarabeery/Documents/CameraTrapClass/Data/unity_sim_deer_night/DeerMixedNight_batch_6_updated_2_10K_bbox_size_thresh.json'\n",
    "# dataset_file = '/Users/sarabeery/Documents/CameraTrapClass/Fixing_CCT_Anns/Corrected_versions/CaltechCameraTrapsBboxes_v2.json'\n",
    "with open(dataset_file,'r') as f:\n",
    "    data = json.load(f)\n",
    "    \n",
    "for im in data['images']:\n",
    "    im['file_name'] = im['file_name'].split('/')[-1]\n",
    "    im['id'] = im['id'].split('/')[-1]\n",
    "    \n",
    "for ann in data['annotations']:\n",
    "    ann['image_id'] = ann['image_id'].split('/')[-1]"
   ]
  },
  {
   "cell_type": "code",
   "execution_count": 92,
   "metadata": {},
   "outputs": [
    {
     "name": "stdout",
     "output_type": "stream",
     "text": [
      "{u'file_name': u'2019-02-20_19-53-21_1920x1080_932_0.jpg', u'width': 1920, u'id': u'2019-02-20_19-53-21_1920x1080_932_0', u'height': 1080}\n",
      "{u'image_id': u'2019-02-18_11-35-29_1920x1080_0_0', u'category_id': 34, u'id': 0, u'bbox': [1334, 604, 324, 284], u'pixel_count': 12346}\n"
     ]
    }
   ],
   "source": [
    "print(data['images'][0])\n",
    "print(data['annotations'][0])"
   ]
  },
  {
   "cell_type": "code",
   "execution_count": 97,
   "metadata": {},
   "outputs": [
    {
     "name": "stdout",
     "output_type": "stream",
     "text": [
      "2317\n"
     ]
    }
   ],
   "source": [
    "#dataset_file = '/Users/sarabeery/Documents/CameraTrapClass/Fixing_CCT_Anns/Corrected_versions/CaltechCameraTrapsBboxes_v2.json'\n",
    "#dataset_file='/Users/sarabeery/Documents/CameraTrapClass/Data/cis_deer/cis_test_deer.json'\n",
    "image_file_root = '/Users/sarabeery/Documents/CameraTrapClass/Data/unity_sim_deer_night/'\n",
    "\n",
    "# dataset_file='/Users/sarabeery/Documents/CameraTrapClass/Data/unity_sim_deer/DeerMixedDay_batch_5_updated.json'\n",
    "# image_file_root = '/Users/sarabeery/Documents/CameraTrapClass/Data/unity_sim_deer/'\n",
    "\n",
    "im_ids = set([i.replace('.jpg','') for i in os.listdir(image_file_root)])\n",
    "print(len(im_ids))\n",
    "#print(im_ids[0])\n",
    "#im_ids = ['594b5cdc-23d2-11e8-a6a3-ec086b02610b','594b5cc8-23d2-11e8-a6a3-ec086b02610b','594b5df4-23d2-11e8-a6a3-ec086b02610b','594cea5a-23d2-11e8-a6a3-ec086b02610b','596bd7ac-23d2-11e8-a6a3-ec086b02610b','596bd8f7-23d2-11e8-a6a3-ec086b02610b']\n",
    "output_tfrecords_folder = '/Users/sarabeery/Documents/CameraTrapClass/sim_classification/vizualize_activations/unity_night_tfrecords/'\n",
    "if not os.path.exists(output_tfrecords_folder):\n",
    "    os.mkdir(output_tfrecords_folder)\n",
    "dataset_name = 'unity_night'\n",
    "\n",
    "config_file = '/Users/sarabeery/Documents/CameraTrapClass/sim_classification/general/train_on_cct/config_test.yaml'\n",
    "checkpoint_path = '/Users/sarabeery/Documents/CameraTrapClass/sim_classification/general/train_on_cct/model.ckpt-165890'\n",
    "\n"
   ]
  },
  {
   "cell_type": "code",
   "execution_count": 86,
   "metadata": {},
   "outputs": [],
   "source": [
    "with open(dataset_file,'r') as f:\n",
    "    data = json.load(f)"
   ]
  },
  {
   "cell_type": "code",
   "execution_count": 95,
   "metadata": {},
   "outputs": [
    {
     "name": "stdout",
     "output_type": "stream",
     "text": [
      "2313\n",
      "1555\n"
     ]
    }
   ],
   "source": [
    "new_data = {'images':[im for im in data['images'] if im['id'] in im_ids],'annotations':[ann for ann in data['annotations'] if ann['image_id'] in im_ids],'categories':data['categories']}\n",
    "input_json_file = '/Users/sarabeery/Documents/CameraTrapClass/sim_classification/vizualize_activations/unity_night_visualization.json'\n",
    "with open(input_json_file,'w') as f:\n",
    "    json.dump(new_data,f)\n",
    "print(len(new_data['images']))\n",
    "print(len(new_data['annotations']))"
   ]
  },
  {
   "cell_type": "code",
   "execution_count": 98,
   "metadata": {},
   "outputs": [
    {
     "name": "stderr",
     "output_type": "stream",
     "text": [
      "100%|██████████| 2313/2313 [00:00<00:00, 63262.46it/s]"
     ]
    },
    {
     "name": "stdout",
     "output_type": "stream",
     "text": [
      "Loading database...\n",
      "('Images: ', 2313)\n",
      "('Annotations: ', 1555)\n",
      "('Categories: ', 16)\n",
      "[{u'id': 6, u'name': u'bobcat'}, {u'id': 1, u'name': u'opossum'}, {u'id': 9, u'name': u'coyote'}, {u'id': 3, u'name': u'raccoon'}, {u'id': 11, u'name': u'bird'}, {u'id': 8, u'name': u'dog'}, {u'id': 16, u'name': u'cat'}, {u'id': 5, u'name': u'squirrel'}, {u'id': 10, u'name': u'rabbit'}, {u'id': 7, u'name': u'skunk'}, {u'id': 99, u'name': u'rodent'}, {u'id': 21, u'name': u'badger'}, {u'id': 34, u'name': u'deer'}, {u'id': 51, u'name': u'fox'}]\n",
      "{1: 2, 34: 13, 3: 4, 5: 8, 6: 1, 7: 10, 8: 6, 9: 3, 10: 9, 11: 5, 16: 7, 99: 11, 21: 12, 51: 14}\n",
      "('Anns with no bbox: ', 0)\n",
      "('Number of empty images from the labeled set: ', 0)\n",
      "('Number of image entries: ', 2313)\n",
      "('num_bboxes_skipped: ', 0)\n",
      "('Images: ', 2313)\n",
      "Creating unity_night tfrecords\n",
      "Number of shards: 15\n",
      "Launching 5 threads for spacings: [[0, 462], [462, 925], [925, 1387], [1387, 1850], [1850, 2313]]\n"
     ]
    },
    {
     "name": "stderr",
     "output_type": "stream",
     "text": [
      "\n"
     ]
    },
    {
     "name": "stdout",
     "output_type": "stream",
     "text": [
      "2019-03-04 14:30:24.975369 [thread 4]: Wrote 154 images to /Users/sarabeery/Documents/CameraTrapClass/sim_classification/vizualize_activations/unity_night_tfrecords/unity_night-00012-of-00015, with 0 errors.\n",
      "2019-03-04 14:30:24.998661 [thread 0]: Wrote 154 images to /Users/sarabeery/Documents/CameraTrapClass/sim_classification/vizualize_activations/unity_night_tfrecords/unity_night-00000-of-00015, with 0 errors.\n",
      "2019-03-04 14:30:25.042413 [thread 3]: Wrote 154 images to /Users/sarabeery/Documents/CameraTrapClass/sim_classification/vizualize_activations/unity_night_tfrecords/unity_night-00009-of-00015, with 0 errors.\n",
      "2019-03-04 14:30:25.085081 [thread 1]: Wrote 154 images to /Users/sarabeery/Documents/CameraTrapClass/sim_classification/vizualize_activations/unity_night_tfrecords/unity_night-00003-of-00015, with 0 errors.\n",
      "2019-03-04 14:30:25.194711 [thread 2]: Wrote 154 images to /Users/sarabeery/Documents/CameraTrapClass/sim_classification/vizualize_activations/unity_night_tfrecords/unity_night-00006-of-00015, with 0 errors.\n",
      "2019-03-04 14:30:30.142472 [thread 1]: Wrote 154 images to /Users/sarabeery/Documents/CameraTrapClass/sim_classification/vizualize_activations/unity_night_tfrecords/unity_night-00004-of-00015, with 0 errors.\n",
      "2019-03-04 14:30:30.163695 [thread 3]: Wrote 154 images to /Users/sarabeery/Documents/CameraTrapClass/sim_classification/vizualize_activations/unity_night_tfrecords/unity_night-00010-of-00015, with 0 errors.\n",
      "2019-03-04 14:30:30.180602 [thread 0]: Wrote 154 images to /Users/sarabeery/Documents/CameraTrapClass/sim_classification/vizualize_activations/unity_night_tfrecords/unity_night-00001-of-00015, with 0 errors.\n",
      "2019-03-04 14:30:30.206299 [thread 4]: Wrote 154 images to /Users/sarabeery/Documents/CameraTrapClass/sim_classification/vizualize_activations/unity_night_tfrecords/unity_night-00013-of-00015, with 0 errors.\n",
      "2019-03-04 14:30:30.320605 [thread 2]: Wrote 154 images to /Users/sarabeery/Documents/CameraTrapClass/sim_classification/vizualize_activations/unity_night_tfrecords/unity_night-00007-of-00015, with 0 errors.\n",
      "2019-03-04 14:30:35.608804 [thread 1]: Wrote 155 images to /Users/sarabeery/Documents/CameraTrapClass/sim_classification/vizualize_activations/unity_night_tfrecords/unity_night-00005-of-00015, with 0 errors.\n",
      "2019-03-04 14:30:35.611901 [thread 1]: Wrote 463 images to 463 shards, with 0 errors.\n",
      "2019-03-04 14:30:35.793918 [thread 3]: Wrote 155 images to /Users/sarabeery/Documents/CameraTrapClass/sim_classification/vizualize_activations/unity_night_tfrecords/unity_night-00011-of-00015, with 0 errors.\n",
      "2019-03-04 14:30:35.795214 [thread 3]: Wrote 463 images to 463 shards, with 0 errors.\n",
      "2019-03-04 14:30:35.846783 [thread 0]: Wrote 154 images to /Users/sarabeery/Documents/CameraTrapClass/sim_classification/vizualize_activations/unity_night_tfrecords/unity_night-00002-of-00015, with 0 errors.\n",
      "2019-03-04 14:30:35.848224 [thread 0]: Wrote 462 images to 462 shards, with 0 errors.\n",
      "2019-03-04 14:30:35.867476 [thread 4]: Wrote 155 images to /Users/sarabeery/Documents/CameraTrapClass/sim_classification/vizualize_activations/unity_night_tfrecords/unity_night-00014-of-00015, with 0 errors.\n",
      "2019-03-04 14:30:35.869001 [thread 4]: Wrote 463 images to 463 shards, with 0 errors.\n",
      "2019-03-04 14:30:35.930508 [thread 2]: Wrote 154 images to /Users/sarabeery/Documents/CameraTrapClass/sim_classification/vizualize_activations/unity_night_tfrecords/unity_night-00008-of-00015, with 0 errors.\n",
      "2019-03-04 14:30:35.932068 [thread 2]: Wrote 462 images to 462 shards, with 0 errors.\n",
      "2019-03-04 14:30:36.751159: Finished writing all 2313 images in data set.\n",
      "0 examples failed.\n"
     ]
    }
   ],
   "source": [
    "make_tfrecords_from_json(input_json_file, output_tfrecords_folder, image_file_root, dataset_name, num_threads=5,ims_per_record=200,is_one_class=False,)"
   ]
  },
  {
   "cell_type": "code",
   "execution_count": null,
   "metadata": {},
   "outputs": [],
   "source": []
  }
 ],
 "metadata": {
  "kernelspec": {
   "display_name": "Python 2",
   "language": "python",
   "name": "python2"
  },
  "language_info": {
   "codemirror_mode": {
    "name": "ipython",
    "version": 2
   },
   "file_extension": ".py",
   "mimetype": "text/x-python",
   "name": "python",
   "nbconvert_exporter": "python",
   "pygments_lexer": "ipython2",
   "version": "2.7.13"
  }
 },
 "nbformat": 4,
 "nbformat_minor": 2
}
